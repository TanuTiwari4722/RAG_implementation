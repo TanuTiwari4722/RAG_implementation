{
 "cells": [
  {
   "cell_type": "markdown",
   "id": "46899972",
   "metadata": {},
   "source": [
    "### Importing libraries"
   ]
  },
  {
   "cell_type": "code",
   "execution_count": 1,
   "id": "0d08870c",
   "metadata": {},
   "outputs": [],
   "source": [
    "import os\n",
    "import fitz\n",
    "import pprint\n",
    "import torch\n",
    "import pandas as pd\n",
    "from tqdm.auto import tqdm"
   ]
  },
  {
   "cell_type": "markdown",
   "id": "17e9aa9e",
   "metadata": {},
   "source": [
    "### Going thorugh the text of the book and storing in a dataframe"
   ]
  },
  {
   "cell_type": "code",
   "execution_count": 2,
   "id": "bb7d62bd",
   "metadata": {},
   "outputs": [
    {
     "data": {
      "application/vnd.jupyter.widget-view+json": {
       "model_id": "c5f0208a9b0d4557a058211fe57664d2",
       "version_major": 2,
       "version_minor": 0
      },
      "text/plain": [
       "  0%|          | 0/1208 [00:00<?, ?it/s]"
      ]
     },
     "metadata": {},
     "output_type": "display_data"
    }
   ],
   "source": [
    "pdf_path = 'Human-Nutrition-2020-Edition-1598491699.pdf'\n",
    "\n",
    "# Using pymupdf library to read the pdf file.\n",
    "doc = fitz.open(pdf_path)\n",
    "\n",
    "book_content = []\n",
    "for page_number, page_content in tqdm(enumerate(doc), total=len(doc)):\n",
    "\n",
    "    # Extracting text from page\n",
    "    page_text = page_content.get_text()\n",
    "\n",
    "    # removing newline characters\n",
    "    page_text = page_text.replace('\\n', ' ').strip()\n",
    "\n",
    "    # creating a dictionary for each page to convert it into a dataframe later. Could also use a list of tuples bus dictionaries are more readable.\n",
    "    book_content.append({\n",
    "        \"page_number\" : page_number+1,\n",
    "        \"text\": page_text,\n",
    "        \"tokens\": len(page_text)/ 4\n",
    "    })"
   ]
  },
  {
   "cell_type": "markdown",
   "id": "b1f972a8",
   "metadata": {},
   "source": [
    "### Creating the dataframe."
   ]
  },
  {
   "cell_type": "code",
   "execution_count": 3,
   "id": "81534447",
   "metadata": {},
   "outputs": [
    {
     "data": {
      "text/html": [
       "<div>\n",
       "<style scoped>\n",
       "    .dataframe tbody tr th:only-of-type {\n",
       "        vertical-align: middle;\n",
       "    }\n",
       "\n",
       "    .dataframe tbody tr th {\n",
       "        vertical-align: top;\n",
       "    }\n",
       "\n",
       "    .dataframe thead th {\n",
       "        text-align: right;\n",
       "    }\n",
       "</style>\n",
       "<table border=\"1\" class=\"dataframe\">\n",
       "  <thead>\n",
       "    <tr style=\"text-align: right;\">\n",
       "      <th></th>\n",
       "      <th>page_number</th>\n",
       "      <th>text</th>\n",
       "      <th>tokens</th>\n",
       "    </tr>\n",
       "  </thead>\n",
       "  <tbody>\n",
       "    <tr>\n",
       "      <th>0</th>\n",
       "      <td>1</td>\n",
       "      <td>Human Nutrition: 2020 Edition</td>\n",
       "      <td>7.25</td>\n",
       "    </tr>\n",
       "    <tr>\n",
       "      <th>1</th>\n",
       "      <td>2</td>\n",
       "      <td></td>\n",
       "      <td>0.00</td>\n",
       "    </tr>\n",
       "    <tr>\n",
       "      <th>2</th>\n",
       "      <td>3</td>\n",
       "      <td>Human Nutrition: 2020  Edition  UNIVERSITY OF ...</td>\n",
       "      <td>80.00</td>\n",
       "    </tr>\n",
       "    <tr>\n",
       "      <th>3</th>\n",
       "      <td>4</td>\n",
       "      <td>Human Nutrition: 2020 Edition by University of...</td>\n",
       "      <td>53.00</td>\n",
       "    </tr>\n",
       "    <tr>\n",
       "      <th>4</th>\n",
       "      <td>5</td>\n",
       "      <td>Contents  Preface  University of Hawai‘i at Mā...</td>\n",
       "      <td>199.25</td>\n",
       "    </tr>\n",
       "    <tr>\n",
       "      <th>...</th>\n",
       "      <td>...</td>\n",
       "      <td>...</td>\n",
       "      <td>...</td>\n",
       "    </tr>\n",
       "    <tr>\n",
       "      <th>1203</th>\n",
       "      <td>1204</td>\n",
       "      <td>39. Exercise 10.2 &amp; 11.3 reused “Egg Oval Food...</td>\n",
       "      <td>419.00</td>\n",
       "    </tr>\n",
       "    <tr>\n",
       "      <th>1204</th>\n",
       "      <td>1205</td>\n",
       "      <td>Images / Pixabay License; “Pumpkin Cartoon Ora...</td>\n",
       "      <td>404.25</td>\n",
       "    </tr>\n",
       "    <tr>\n",
       "      <th>1205</th>\n",
       "      <td>1206</td>\n",
       "      <td>Flashcard Images  Note: Most images in the fla...</td>\n",
       "      <td>428.75</td>\n",
       "    </tr>\n",
       "    <tr>\n",
       "      <th>1206</th>\n",
       "      <td>1207</td>\n",
       "      <td>ShareAlike  11. Organs reused “Pancreas Organ ...</td>\n",
       "      <td>433.25</td>\n",
       "    </tr>\n",
       "    <tr>\n",
       "      <th>1207</th>\n",
       "      <td>1208</td>\n",
       "      <td>23. Vitamin D reused “The Functions of Vitamin...</td>\n",
       "      <td>64.25</td>\n",
       "    </tr>\n",
       "  </tbody>\n",
       "</table>\n",
       "<p>1208 rows × 3 columns</p>\n",
       "</div>"
      ],
      "text/plain": [
       "      page_number                                               text  tokens\n",
       "0               1                      Human Nutrition: 2020 Edition    7.25\n",
       "1               2                                                       0.00\n",
       "2               3  Human Nutrition: 2020  Edition  UNIVERSITY OF ...   80.00\n",
       "3               4  Human Nutrition: 2020 Edition by University of...   53.00\n",
       "4               5  Contents  Preface  University of Hawai‘i at Mā...  199.25\n",
       "...           ...                                                ...     ...\n",
       "1203         1204  39. Exercise 10.2 & 11.3 reused “Egg Oval Food...  419.00\n",
       "1204         1205  Images / Pixabay License; “Pumpkin Cartoon Ora...  404.25\n",
       "1205         1206  Flashcard Images  Note: Most images in the fla...  428.75\n",
       "1206         1207  ShareAlike  11. Organs reused “Pancreas Organ ...  433.25\n",
       "1207         1208  23. Vitamin D reused “The Functions of Vitamin...   64.25\n",
       "\n",
       "[1208 rows x 3 columns]"
      ]
     },
     "execution_count": 3,
     "metadata": {},
     "output_type": "execute_result"
    }
   ],
   "source": [
    "data = pd.DataFrame(book_content)\n",
    "data"
   ]
  },
  {
   "cell_type": "markdown",
   "id": "e504ad91",
   "metadata": {},
   "source": [
    "### Removing the pages having tokens less than 30"
   ]
  },
  {
   "cell_type": "code",
   "execution_count": 4,
   "id": "ab7a1ca1",
   "metadata": {},
   "outputs": [
    {
     "data": {
      "text/html": [
       "<div>\n",
       "<style scoped>\n",
       "    .dataframe tbody tr th:only-of-type {\n",
       "        vertical-align: middle;\n",
       "    }\n",
       "\n",
       "    .dataframe tbody tr th {\n",
       "        vertical-align: top;\n",
       "    }\n",
       "\n",
       "    .dataframe thead th {\n",
       "        text-align: right;\n",
       "    }\n",
       "</style>\n",
       "<table border=\"1\" class=\"dataframe\">\n",
       "  <thead>\n",
       "    <tr style=\"text-align: right;\">\n",
       "      <th></th>\n",
       "      <th>page_number</th>\n",
       "      <th>text</th>\n",
       "      <th>tokens</th>\n",
       "    </tr>\n",
       "  </thead>\n",
       "  <tbody>\n",
       "    <tr>\n",
       "      <th>0</th>\n",
       "      <td>3</td>\n",
       "      <td>Human Nutrition: 2020  Edition  UNIVERSITY OF ...</td>\n",
       "      <td>80.00</td>\n",
       "    </tr>\n",
       "    <tr>\n",
       "      <th>1</th>\n",
       "      <td>4</td>\n",
       "      <td>Human Nutrition: 2020 Edition by University of...</td>\n",
       "      <td>53.00</td>\n",
       "    </tr>\n",
       "    <tr>\n",
       "      <th>2</th>\n",
       "      <td>5</td>\n",
       "      <td>Contents  Preface  University of Hawai‘i at Mā...</td>\n",
       "      <td>199.25</td>\n",
       "    </tr>\n",
       "    <tr>\n",
       "      <th>3</th>\n",
       "      <td>6</td>\n",
       "      <td>Lifestyles and Nutrition  University of Hawai‘...</td>\n",
       "      <td>244.00</td>\n",
       "    </tr>\n",
       "    <tr>\n",
       "      <th>4</th>\n",
       "      <td>7</td>\n",
       "      <td>The Cardiovascular System  University of Hawai...</td>\n",
       "      <td>259.25</td>\n",
       "    </tr>\n",
       "    <tr>\n",
       "      <th>...</th>\n",
       "      <td>...</td>\n",
       "      <td>...</td>\n",
       "      <td>...</td>\n",
       "    </tr>\n",
       "    <tr>\n",
       "      <th>1133</th>\n",
       "      <td>1204</td>\n",
       "      <td>39. Exercise 10.2 &amp; 11.3 reused “Egg Oval Food...</td>\n",
       "      <td>419.00</td>\n",
       "    </tr>\n",
       "    <tr>\n",
       "      <th>1134</th>\n",
       "      <td>1205</td>\n",
       "      <td>Images / Pixabay License; “Pumpkin Cartoon Ora...</td>\n",
       "      <td>404.25</td>\n",
       "    </tr>\n",
       "    <tr>\n",
       "      <th>1135</th>\n",
       "      <td>1206</td>\n",
       "      <td>Flashcard Images  Note: Most images in the fla...</td>\n",
       "      <td>428.75</td>\n",
       "    </tr>\n",
       "    <tr>\n",
       "      <th>1136</th>\n",
       "      <td>1207</td>\n",
       "      <td>ShareAlike  11. Organs reused “Pancreas Organ ...</td>\n",
       "      <td>433.25</td>\n",
       "    </tr>\n",
       "    <tr>\n",
       "      <th>1137</th>\n",
       "      <td>1208</td>\n",
       "      <td>23. Vitamin D reused “The Functions of Vitamin...</td>\n",
       "      <td>64.25</td>\n",
       "    </tr>\n",
       "  </tbody>\n",
       "</table>\n",
       "<p>1138 rows × 3 columns</p>\n",
       "</div>"
      ],
      "text/plain": [
       "      page_number                                               text  tokens\n",
       "0               3  Human Nutrition: 2020  Edition  UNIVERSITY OF ...   80.00\n",
       "1               4  Human Nutrition: 2020 Edition by University of...   53.00\n",
       "2               5  Contents  Preface  University of Hawai‘i at Mā...  199.25\n",
       "3               6  Lifestyles and Nutrition  University of Hawai‘...  244.00\n",
       "4               7  The Cardiovascular System  University of Hawai...  259.25\n",
       "...           ...                                                ...     ...\n",
       "1133         1204  39. Exercise 10.2 & 11.3 reused “Egg Oval Food...  419.00\n",
       "1134         1205  Images / Pixabay License; “Pumpkin Cartoon Ora...  404.25\n",
       "1135         1206  Flashcard Images  Note: Most images in the fla...  428.75\n",
       "1136         1207  ShareAlike  11. Organs reused “Pancreas Organ ...  433.25\n",
       "1137         1208  23. Vitamin D reused “The Functions of Vitamin...   64.25\n",
       "\n",
       "[1138 rows x 3 columns]"
      ]
     },
     "execution_count": 4,
     "metadata": {},
     "output_type": "execute_result"
    }
   ],
   "source": [
    "data = data[data['tokens']>30].copy()\n",
    "data.reset_index(drop = True, inplace = True)\n",
    "data"
   ]
  },
  {
   "cell_type": "markdown",
   "id": "772aac91",
   "metadata": {},
   "source": [
    "### Using spacy to breakdown the paragraphs into sentences."
   ]
  },
  {
   "cell_type": "code",
   "execution_count": 5,
   "id": "f585c558",
   "metadata": {},
   "outputs": [
    {
     "data": {
      "text/plain": [
       "<spacy.pipeline.sentencizer.Sentencizer at 0x795253f10300>"
      ]
     },
     "execution_count": 5,
     "metadata": {},
     "output_type": "execute_result"
    }
   ],
   "source": [
    "from spacy.lang.en import English\n",
    "# Using spacy to split the text into sentences.\n",
    "\n",
    "nlp = English()\n",
    "nlp.add_pipe(\"sentencizer\")"
   ]
  },
  {
   "cell_type": "code",
   "execution_count": 6,
   "id": "9b3267f3",
   "metadata": {},
   "outputs": [],
   "source": [
    "data['sentences'] = data['text'].apply(lambda x: [sent.text for sent in nlp(x).sents])\n",
    "data['num_sentences'] = data['sentences']. apply(len)"
   ]
  },
  {
   "cell_type": "code",
   "execution_count": 7,
   "id": "e8bf8e69",
   "metadata": {},
   "outputs": [
    {
     "data": {
      "text/html": [
       "<div>\n",
       "<style scoped>\n",
       "    .dataframe tbody tr th:only-of-type {\n",
       "        vertical-align: middle;\n",
       "    }\n",
       "\n",
       "    .dataframe tbody tr th {\n",
       "        vertical-align: top;\n",
       "    }\n",
       "\n",
       "    .dataframe thead th {\n",
       "        text-align: right;\n",
       "    }\n",
       "</style>\n",
       "<table border=\"1\" class=\"dataframe\">\n",
       "  <thead>\n",
       "    <tr style=\"text-align: right;\">\n",
       "      <th></th>\n",
       "      <th>page_number</th>\n",
       "      <th>text</th>\n",
       "      <th>tokens</th>\n",
       "      <th>sentences</th>\n",
       "      <th>num_sentences</th>\n",
       "    </tr>\n",
       "  </thead>\n",
       "  <tbody>\n",
       "    <tr>\n",
       "      <th>0</th>\n",
       "      <td>3</td>\n",
       "      <td>Human Nutrition: 2020  Edition  UNIVERSITY OF ...</td>\n",
       "      <td>80.00</td>\n",
       "      <td>[Human Nutrition: 2020  Edition  UNIVERSITY OF...</td>\n",
       "      <td>1</td>\n",
       "    </tr>\n",
       "    <tr>\n",
       "      <th>1</th>\n",
       "      <td>4</td>\n",
       "      <td>Human Nutrition: 2020 Edition by University of...</td>\n",
       "      <td>53.00</td>\n",
       "      <td>[Human Nutrition: 2020 Edition by University o...</td>\n",
       "      <td>1</td>\n",
       "    </tr>\n",
       "    <tr>\n",
       "      <th>2</th>\n",
       "      <td>5</td>\n",
       "      <td>Contents  Preface  University of Hawai‘i at Mā...</td>\n",
       "      <td>199.25</td>\n",
       "      <td>[Contents  Preface  University of Hawai‘i at M...</td>\n",
       "      <td>2</td>\n",
       "    </tr>\n",
       "    <tr>\n",
       "      <th>3</th>\n",
       "      <td>6</td>\n",
       "      <td>Lifestyles and Nutrition  University of Hawai‘...</td>\n",
       "      <td>244.00</td>\n",
       "      <td>[Lifestyles and Nutrition  University of Hawai...</td>\n",
       "      <td>3</td>\n",
       "    </tr>\n",
       "    <tr>\n",
       "      <th>4</th>\n",
       "      <td>7</td>\n",
       "      <td>The Cardiovascular System  University of Hawai...</td>\n",
       "      <td>259.25</td>\n",
       "      <td>[The Cardiovascular System  University of Hawa...</td>\n",
       "      <td>1</td>\n",
       "    </tr>\n",
       "    <tr>\n",
       "      <th>...</th>\n",
       "      <td>...</td>\n",
       "      <td>...</td>\n",
       "      <td>...</td>\n",
       "      <td>...</td>\n",
       "      <td>...</td>\n",
       "    </tr>\n",
       "    <tr>\n",
       "      <th>1133</th>\n",
       "      <td>1204</td>\n",
       "      <td>39. Exercise 10.2 &amp; 11.3 reused “Egg Oval Food...</td>\n",
       "      <td>419.00</td>\n",
       "      <td>[39., Exercise 10.2 &amp; 11.3 reused “Egg Oval Fo...</td>\n",
       "      <td>18</td>\n",
       "    </tr>\n",
       "    <tr>\n",
       "      <th>1134</th>\n",
       "      <td>1205</td>\n",
       "      <td>Images / Pixabay License; “Pumpkin Cartoon Ora...</td>\n",
       "      <td>404.25</td>\n",
       "      <td>[Images / Pixabay License; “Pumpkin Cartoon Or...</td>\n",
       "      <td>10</td>\n",
       "    </tr>\n",
       "    <tr>\n",
       "      <th>1135</th>\n",
       "      <td>1206</td>\n",
       "      <td>Flashcard Images  Note: Most images in the fla...</td>\n",
       "      <td>428.75</td>\n",
       "      <td>[Flashcard Images  Note: Most images in the fl...</td>\n",
       "      <td>13</td>\n",
       "    </tr>\n",
       "    <tr>\n",
       "      <th>1136</th>\n",
       "      <td>1207</td>\n",
       "      <td>ShareAlike  11. Organs reused “Pancreas Organ ...</td>\n",
       "      <td>433.25</td>\n",
       "      <td>[ShareAlike  11., Organs reused “Pancreas Orga...</td>\n",
       "      <td>13</td>\n",
       "    </tr>\n",
       "    <tr>\n",
       "      <th>1137</th>\n",
       "      <td>1208</td>\n",
       "      <td>23. Vitamin D reused “The Functions of Vitamin...</td>\n",
       "      <td>64.25</td>\n",
       "      <td>[23., Vitamin D reused “The Functions of Vitam...</td>\n",
       "      <td>3</td>\n",
       "    </tr>\n",
       "  </tbody>\n",
       "</table>\n",
       "<p>1138 rows × 5 columns</p>\n",
       "</div>"
      ],
      "text/plain": [
       "      page_number                                               text  tokens  \\\n",
       "0               3  Human Nutrition: 2020  Edition  UNIVERSITY OF ...   80.00   \n",
       "1               4  Human Nutrition: 2020 Edition by University of...   53.00   \n",
       "2               5  Contents  Preface  University of Hawai‘i at Mā...  199.25   \n",
       "3               6  Lifestyles and Nutrition  University of Hawai‘...  244.00   \n",
       "4               7  The Cardiovascular System  University of Hawai...  259.25   \n",
       "...           ...                                                ...     ...   \n",
       "1133         1204  39. Exercise 10.2 & 11.3 reused “Egg Oval Food...  419.00   \n",
       "1134         1205  Images / Pixabay License; “Pumpkin Cartoon Ora...  404.25   \n",
       "1135         1206  Flashcard Images  Note: Most images in the fla...  428.75   \n",
       "1136         1207  ShareAlike  11. Organs reused “Pancreas Organ ...  433.25   \n",
       "1137         1208  23. Vitamin D reused “The Functions of Vitamin...   64.25   \n",
       "\n",
       "                                              sentences  num_sentences  \n",
       "0     [Human Nutrition: 2020  Edition  UNIVERSITY OF...              1  \n",
       "1     [Human Nutrition: 2020 Edition by University o...              1  \n",
       "2     [Contents  Preface  University of Hawai‘i at M...              2  \n",
       "3     [Lifestyles and Nutrition  University of Hawai...              3  \n",
       "4     [The Cardiovascular System  University of Hawa...              1  \n",
       "...                                                 ...            ...  \n",
       "1133  [39., Exercise 10.2 & 11.3 reused “Egg Oval Fo...             18  \n",
       "1134  [Images / Pixabay License; “Pumpkin Cartoon Or...             10  \n",
       "1135  [Flashcard Images  Note: Most images in the fl...             13  \n",
       "1136  [ShareAlike  11., Organs reused “Pancreas Orga...             13  \n",
       "1137  [23., Vitamin D reused “The Functions of Vitam...              3  \n",
       "\n",
       "[1138 rows x 5 columns]"
      ]
     },
     "execution_count": 7,
     "metadata": {},
     "output_type": "execute_result"
    }
   ],
   "source": [
    "data"
   ]
  },
  {
   "cell_type": "markdown",
   "id": "918e5716",
   "metadata": {},
   "source": [
    "### Chunking sentences, each chunk will have 10 senetences."
   ]
  },
  {
   "cell_type": "code",
   "execution_count": 8,
   "id": "2bc9a068",
   "metadata": {},
   "outputs": [
    {
     "data": {
      "text/html": [
       "<div>\n",
       "<style scoped>\n",
       "    .dataframe tbody tr th:only-of-type {\n",
       "        vertical-align: middle;\n",
       "    }\n",
       "\n",
       "    .dataframe tbody tr th {\n",
       "        vertical-align: top;\n",
       "    }\n",
       "\n",
       "    .dataframe thead th {\n",
       "        text-align: right;\n",
       "    }\n",
       "</style>\n",
       "<table border=\"1\" class=\"dataframe\">\n",
       "  <thead>\n",
       "    <tr style=\"text-align: right;\">\n",
       "      <th></th>\n",
       "      <th>page_number</th>\n",
       "      <th>text</th>\n",
       "      <th>tokens</th>\n",
       "      <th>sentences</th>\n",
       "      <th>num_sentences</th>\n",
       "      <th>text_chunks</th>\n",
       "      <th>num_chunks</th>\n",
       "    </tr>\n",
       "  </thead>\n",
       "  <tbody>\n",
       "    <tr>\n",
       "      <th>0</th>\n",
       "      <td>3</td>\n",
       "      <td>Human Nutrition: 2020  Edition  UNIVERSITY OF ...</td>\n",
       "      <td>80.00</td>\n",
       "      <td>[Human Nutrition: 2020  Edition  UNIVERSITY OF...</td>\n",
       "      <td>1</td>\n",
       "      <td>[Human Nutrition: 2020  Edition  UNIVERSITY OF...</td>\n",
       "      <td>1</td>\n",
       "    </tr>\n",
       "    <tr>\n",
       "      <th>1</th>\n",
       "      <td>4</td>\n",
       "      <td>Human Nutrition: 2020 Edition by University of...</td>\n",
       "      <td>53.00</td>\n",
       "      <td>[Human Nutrition: 2020 Edition by University o...</td>\n",
       "      <td>1</td>\n",
       "      <td>[Human Nutrition: 2020 Edition by University o...</td>\n",
       "      <td>1</td>\n",
       "    </tr>\n",
       "    <tr>\n",
       "      <th>2</th>\n",
       "      <td>5</td>\n",
       "      <td>Contents  Preface  University of Hawai‘i at Mā...</td>\n",
       "      <td>199.25</td>\n",
       "      <td>[Contents  Preface  University of Hawai‘i at M...</td>\n",
       "      <td>2</td>\n",
       "      <td>[Contents  Preface  University of Hawai‘i at M...</td>\n",
       "      <td>1</td>\n",
       "    </tr>\n",
       "    <tr>\n",
       "      <th>3</th>\n",
       "      <td>6</td>\n",
       "      <td>Lifestyles and Nutrition  University of Hawai‘...</td>\n",
       "      <td>244.00</td>\n",
       "      <td>[Lifestyles and Nutrition  University of Hawai...</td>\n",
       "      <td>3</td>\n",
       "      <td>[Lifestyles and Nutrition  University of Hawai...</td>\n",
       "      <td>1</td>\n",
       "    </tr>\n",
       "    <tr>\n",
       "      <th>4</th>\n",
       "      <td>7</td>\n",
       "      <td>The Cardiovascular System  University of Hawai...</td>\n",
       "      <td>259.25</td>\n",
       "      <td>[The Cardiovascular System  University of Hawa...</td>\n",
       "      <td>1</td>\n",
       "      <td>[The Cardiovascular System  University of Hawa...</td>\n",
       "      <td>1</td>\n",
       "    </tr>\n",
       "    <tr>\n",
       "      <th>...</th>\n",
       "      <td>...</td>\n",
       "      <td>...</td>\n",
       "      <td>...</td>\n",
       "      <td>...</td>\n",
       "      <td>...</td>\n",
       "      <td>...</td>\n",
       "      <td>...</td>\n",
       "    </tr>\n",
       "    <tr>\n",
       "      <th>1133</th>\n",
       "      <td>1204</td>\n",
       "      <td>39. Exercise 10.2 &amp; 11.3 reused “Egg Oval Food...</td>\n",
       "      <td>419.00</td>\n",
       "      <td>[39., Exercise 10.2 &amp; 11.3 reused “Egg Oval Fo...</td>\n",
       "      <td>18</td>\n",
       "      <td>[39.Exercise 10.2 &amp; 11.3 reused “Egg Oval Food...</td>\n",
       "      <td>4</td>\n",
       "    </tr>\n",
       "    <tr>\n",
       "      <th>1134</th>\n",
       "      <td>1205</td>\n",
       "      <td>Images / Pixabay License; “Pumpkin Cartoon Ora...</td>\n",
       "      <td>404.25</td>\n",
       "      <td>[Images / Pixabay License; “Pumpkin Cartoon Or...</td>\n",
       "      <td>10</td>\n",
       "      <td>[Images / Pixabay License; “Pumpkin Cartoon Or...</td>\n",
       "      <td>2</td>\n",
       "    </tr>\n",
       "    <tr>\n",
       "      <th>1135</th>\n",
       "      <td>1206</td>\n",
       "      <td>Flashcard Images  Note: Most images in the fla...</td>\n",
       "      <td>428.75</td>\n",
       "      <td>[Flashcard Images  Note: Most images in the fl...</td>\n",
       "      <td>13</td>\n",
       "      <td>[Flashcard Images  Note: Most images in the fl...</td>\n",
       "      <td>3</td>\n",
       "    </tr>\n",
       "    <tr>\n",
       "      <th>1136</th>\n",
       "      <td>1207</td>\n",
       "      <td>ShareAlike  11. Organs reused “Pancreas Organ ...</td>\n",
       "      <td>433.25</td>\n",
       "      <td>[ShareAlike  11., Organs reused “Pancreas Orga...</td>\n",
       "      <td>13</td>\n",
       "      <td>[ShareAlike  11.Organs reused “Pancreas Organ ...</td>\n",
       "      <td>3</td>\n",
       "    </tr>\n",
       "    <tr>\n",
       "      <th>1137</th>\n",
       "      <td>1208</td>\n",
       "      <td>23. Vitamin D reused “The Functions of Vitamin...</td>\n",
       "      <td>64.25</td>\n",
       "      <td>[23., Vitamin D reused “The Functions of Vitam...</td>\n",
       "      <td>3</td>\n",
       "      <td>[23.Vitamin D reused “The Functions of Vitamin...</td>\n",
       "      <td>1</td>\n",
       "    </tr>\n",
       "  </tbody>\n",
       "</table>\n",
       "<p>1138 rows × 7 columns</p>\n",
       "</div>"
      ],
      "text/plain": [
       "      page_number                                               text  tokens  \\\n",
       "0               3  Human Nutrition: 2020  Edition  UNIVERSITY OF ...   80.00   \n",
       "1               4  Human Nutrition: 2020 Edition by University of...   53.00   \n",
       "2               5  Contents  Preface  University of Hawai‘i at Mā...  199.25   \n",
       "3               6  Lifestyles and Nutrition  University of Hawai‘...  244.00   \n",
       "4               7  The Cardiovascular System  University of Hawai...  259.25   \n",
       "...           ...                                                ...     ...   \n",
       "1133         1204  39. Exercise 10.2 & 11.3 reused “Egg Oval Food...  419.00   \n",
       "1134         1205  Images / Pixabay License; “Pumpkin Cartoon Ora...  404.25   \n",
       "1135         1206  Flashcard Images  Note: Most images in the fla...  428.75   \n",
       "1136         1207  ShareAlike  11. Organs reused “Pancreas Organ ...  433.25   \n",
       "1137         1208  23. Vitamin D reused “The Functions of Vitamin...   64.25   \n",
       "\n",
       "                                              sentences  num_sentences  \\\n",
       "0     [Human Nutrition: 2020  Edition  UNIVERSITY OF...              1   \n",
       "1     [Human Nutrition: 2020 Edition by University o...              1   \n",
       "2     [Contents  Preface  University of Hawai‘i at M...              2   \n",
       "3     [Lifestyles and Nutrition  University of Hawai...              3   \n",
       "4     [The Cardiovascular System  University of Hawa...              1   \n",
       "...                                                 ...            ...   \n",
       "1133  [39., Exercise 10.2 & 11.3 reused “Egg Oval Fo...             18   \n",
       "1134  [Images / Pixabay License; “Pumpkin Cartoon Or...             10   \n",
       "1135  [Flashcard Images  Note: Most images in the fl...             13   \n",
       "1136  [ShareAlike  11., Organs reused “Pancreas Orga...             13   \n",
       "1137  [23., Vitamin D reused “The Functions of Vitam...              3   \n",
       "\n",
       "                                            text_chunks  num_chunks  \n",
       "0     [Human Nutrition: 2020  Edition  UNIVERSITY OF...           1  \n",
       "1     [Human Nutrition: 2020 Edition by University o...           1  \n",
       "2     [Contents  Preface  University of Hawai‘i at M...           1  \n",
       "3     [Lifestyles and Nutrition  University of Hawai...           1  \n",
       "4     [The Cardiovascular System  University of Hawa...           1  \n",
       "...                                                 ...         ...  \n",
       "1133  [39.Exercise 10.2 & 11.3 reused “Egg Oval Food...           4  \n",
       "1134  [Images / Pixabay License; “Pumpkin Cartoon Or...           2  \n",
       "1135  [Flashcard Images  Note: Most images in the fl...           3  \n",
       "1136  [ShareAlike  11.Organs reused “Pancreas Organ ...           3  \n",
       "1137  [23.Vitamin D reused “The Functions of Vitamin...           1  \n",
       "\n",
       "[1138 rows x 7 columns]"
      ]
     },
     "execution_count": 8,
     "metadata": {},
     "output_type": "execute_result"
    }
   ],
   "source": [
    "chunk_size = 10\n",
    "\n",
    "def chunk_sentences(sentences, chunk_size):\n",
    "    return [''.join(sentences[i:i+ chunk_size]) for i in range(0, len(sentences),chunk_size//2)]\n",
    "\n",
    "data['text_chunks'] = data['sentences'].apply(lambda x: chunk_sentences(x, chunk_size))\n",
    "data['num_chunks'] = data['text_chunks'].apply(len)\n",
    "data"
   ]
  },
  {
   "cell_type": "markdown",
   "id": "49b5c5f6",
   "metadata": {},
   "source": [
    "### Creating the vector database with chunks"
   ]
  },
  {
   "cell_type": "code",
   "execution_count": 9,
   "id": "0634ba7d",
   "metadata": {},
   "outputs": [
    {
     "data": {
      "text/html": [
       "<div>\n",
       "<style scoped>\n",
       "    .dataframe tbody tr th:only-of-type {\n",
       "        vertical-align: middle;\n",
       "    }\n",
       "\n",
       "    .dataframe tbody tr th {\n",
       "        vertical-align: top;\n",
       "    }\n",
       "\n",
       "    .dataframe thead th {\n",
       "        text-align: right;\n",
       "    }\n",
       "</style>\n",
       "<table border=\"1\" class=\"dataframe\">\n",
       "  <thead>\n",
       "    <tr style=\"text-align: right;\">\n",
       "      <th></th>\n",
       "      <th>text_chunks</th>\n",
       "    </tr>\n",
       "  </thead>\n",
       "  <tbody>\n",
       "    <tr>\n",
       "      <th>0</th>\n",
       "      <td>Human Nutrition: 2020  Edition  UNIVERSITY OF ...</td>\n",
       "    </tr>\n",
       "    <tr>\n",
       "      <th>1</th>\n",
       "      <td>Human Nutrition: 2020 Edition by University of...</td>\n",
       "    </tr>\n",
       "    <tr>\n",
       "      <th>2</th>\n",
       "      <td>Contents  Preface  University of Hawai‘i at Mā...</td>\n",
       "    </tr>\n",
       "    <tr>\n",
       "      <th>3</th>\n",
       "      <td>Lifestyles and Nutrition  University of Hawai‘...</td>\n",
       "    </tr>\n",
       "    <tr>\n",
       "      <th>4</th>\n",
       "      <td>The Cardiovascular System  University of Hawai...</td>\n",
       "    </tr>\n",
       "    <tr>\n",
       "      <th>...</th>\n",
       "      <td>...</td>\n",
       "    </tr>\n",
       "    <tr>\n",
       "      <th>2947</th>\n",
       "      <td>Hazard Analysis Critical Control Points reused...</td>\n",
       "    </tr>\n",
       "    <tr>\n",
       "      <th>2948</th>\n",
       "      <td>ShareAlike  11.Organs reused “Pancreas Organ A...</td>\n",
       "    </tr>\n",
       "    <tr>\n",
       "      <th>2949</th>\n",
       "      <td>Protein reused “The Macronutrients: Carbohydra...</td>\n",
       "    </tr>\n",
       "    <tr>\n",
       "      <th>2950</th>\n",
       "      <td>Sucrose reused “Figure 03 02 05” by OpenStax B...</td>\n",
       "    </tr>\n",
       "    <tr>\n",
       "      <th>2951</th>\n",
       "      <td>23.Vitamin D reused “The Functions of Vitamin ...</td>\n",
       "    </tr>\n",
       "  </tbody>\n",
       "</table>\n",
       "<p>2952 rows × 1 columns</p>\n",
       "</div>"
      ],
      "text/plain": [
       "                                            text_chunks\n",
       "0     Human Nutrition: 2020  Edition  UNIVERSITY OF ...\n",
       "1     Human Nutrition: 2020 Edition by University of...\n",
       "2     Contents  Preface  University of Hawai‘i at Mā...\n",
       "3     Lifestyles and Nutrition  University of Hawai‘...\n",
       "4     The Cardiovascular System  University of Hawai...\n",
       "...                                                 ...\n",
       "2947  Hazard Analysis Critical Control Points reused...\n",
       "2948  ShareAlike  11.Organs reused “Pancreas Organ A...\n",
       "2949  Protein reused “The Macronutrients: Carbohydra...\n",
       "2950  Sucrose reused “Figure 03 02 05” by OpenStax B...\n",
       "2951  23.Vitamin D reused “The Functions of Vitamin ...\n",
       "\n",
       "[2952 rows x 1 columns]"
      ]
     },
     "execution_count": 9,
     "metadata": {},
     "output_type": "execute_result"
    }
   ],
   "source": [
    "vector_db = data['text_chunks'].explode().reset_index(drop=True).to_frame()\n",
    "vector_db"
   ]
  },
  {
   "cell_type": "markdown",
   "id": "3448780f",
   "metadata": {},
   "source": [
    "### Generating embeddings for each chunk"
   ]
  },
  {
   "cell_type": "code",
   "execution_count": 12,
   "id": "2c0f1289",
   "metadata": {},
   "outputs": [],
   "source": [
    "from sentence_transformers import SentenceTransformer, util"
   ]
  },
  {
   "cell_type": "code",
   "execution_count": 14,
   "id": "b0b77517",
   "metadata": {},
   "outputs": [],
   "source": [
    "embedding_model = SentenceTransformer(model_name_or_path=\"all-mpnet-base-v2\", \n",
    "                                      device=\"cuda\")\n",
    "\n",
    "text_chunk_embeddings = embedding_model.encode(vector_db['text_chunks'].tolist(),\n",
    "                                               batch_size=16, \n",
    "                                               convert_to_tensor=True)"
   ]
  },
  {
   "cell_type": "code",
   "execution_count": 15,
   "id": "d46b38f8",
   "metadata": {},
   "outputs": [
    {
     "data": {
      "text/html": [
       "<div>\n",
       "<style scoped>\n",
       "    .dataframe tbody tr th:only-of-type {\n",
       "        vertical-align: middle;\n",
       "    }\n",
       "\n",
       "    .dataframe tbody tr th {\n",
       "        vertical-align: top;\n",
       "    }\n",
       "\n",
       "    .dataframe thead th {\n",
       "        text-align: right;\n",
       "    }\n",
       "</style>\n",
       "<table border=\"1\" class=\"dataframe\">\n",
       "  <thead>\n",
       "    <tr style=\"text-align: right;\">\n",
       "      <th></th>\n",
       "      <th>text_chunks</th>\n",
       "      <th>embeddings</th>\n",
       "    </tr>\n",
       "  </thead>\n",
       "  <tbody>\n",
       "    <tr>\n",
       "      <th>0</th>\n",
       "      <td>Human Nutrition: 2020  Edition  UNIVERSITY OF ...</td>\n",
       "      <td>[0.06742425262928009, 0.0902281105518341, -0.0...</td>\n",
       "    </tr>\n",
       "    <tr>\n",
       "      <th>1</th>\n",
       "      <td>Human Nutrition: 2020 Edition by University of...</td>\n",
       "      <td>[0.05521562322974205, 0.05921393632888794, -0....</td>\n",
       "    </tr>\n",
       "    <tr>\n",
       "      <th>2</th>\n",
       "      <td>Contents  Preface  University of Hawai‘i at Mā...</td>\n",
       "      <td>[0.02798021212220192, 0.033981405198574066, -0...</td>\n",
       "    </tr>\n",
       "    <tr>\n",
       "      <th>3</th>\n",
       "      <td>Lifestyles and Nutrition  University of Hawai‘...</td>\n",
       "      <td>[0.06825671344995499, 0.038127463310956955, -0...</td>\n",
       "    </tr>\n",
       "    <tr>\n",
       "      <th>4</th>\n",
       "      <td>The Cardiovascular System  University of Hawai...</td>\n",
       "      <td>[0.03302641957998276, -0.008497660979628563, 0...</td>\n",
       "    </tr>\n",
       "    <tr>\n",
       "      <th>...</th>\n",
       "      <td>...</td>\n",
       "      <td>...</td>\n",
       "    </tr>\n",
       "    <tr>\n",
       "      <th>2947</th>\n",
       "      <td>Hazard Analysis Critical Control Points reused...</td>\n",
       "      <td>[0.03347204625606537, -0.05704408511519432, 0....</td>\n",
       "    </tr>\n",
       "    <tr>\n",
       "      <th>2948</th>\n",
       "      <td>ShareAlike  11.Organs reused “Pancreas Organ A...</td>\n",
       "      <td>[0.07705153524875641, 0.009785559959709644, -0...</td>\n",
       "    </tr>\n",
       "    <tr>\n",
       "      <th>2949</th>\n",
       "      <td>Protein reused “The Macronutrients: Carbohydra...</td>\n",
       "      <td>[0.11963801831007004, 0.018848083913326263, -0...</td>\n",
       "    </tr>\n",
       "    <tr>\n",
       "      <th>2950</th>\n",
       "      <td>Sucrose reused “Figure 03 02 05” by OpenStax B...</td>\n",
       "      <td>[0.10304515808820724, -0.016470178961753845, 0...</td>\n",
       "    </tr>\n",
       "    <tr>\n",
       "      <th>2951</th>\n",
       "      <td>23.Vitamin D reused “The Functions of Vitamin ...</td>\n",
       "      <td>[0.08637741208076477, -0.012535866349935532, -...</td>\n",
       "    </tr>\n",
       "  </tbody>\n",
       "</table>\n",
       "<p>2952 rows × 2 columns</p>\n",
       "</div>"
      ],
      "text/plain": [
       "                                            text_chunks  \\\n",
       "0     Human Nutrition: 2020  Edition  UNIVERSITY OF ...   \n",
       "1     Human Nutrition: 2020 Edition by University of...   \n",
       "2     Contents  Preface  University of Hawai‘i at Mā...   \n",
       "3     Lifestyles and Nutrition  University of Hawai‘...   \n",
       "4     The Cardiovascular System  University of Hawai...   \n",
       "...                                                 ...   \n",
       "2947  Hazard Analysis Critical Control Points reused...   \n",
       "2948  ShareAlike  11.Organs reused “Pancreas Organ A...   \n",
       "2949  Protein reused “The Macronutrients: Carbohydra...   \n",
       "2950  Sucrose reused “Figure 03 02 05” by OpenStax B...   \n",
       "2951  23.Vitamin D reused “The Functions of Vitamin ...   \n",
       "\n",
       "                                             embeddings  \n",
       "0     [0.06742425262928009, 0.0902281105518341, -0.0...  \n",
       "1     [0.05521562322974205, 0.05921393632888794, -0....  \n",
       "2     [0.02798021212220192, 0.033981405198574066, -0...  \n",
       "3     [0.06825671344995499, 0.038127463310956955, -0...  \n",
       "4     [0.03302641957998276, -0.008497660979628563, 0...  \n",
       "...                                                 ...  \n",
       "2947  [0.03347204625606537, -0.05704408511519432, 0....  \n",
       "2948  [0.07705153524875641, 0.009785559959709644, -0...  \n",
       "2949  [0.11963801831007004, 0.018848083913326263, -0...  \n",
       "2950  [0.10304515808820724, -0.016470178961753845, 0...  \n",
       "2951  [0.08637741208076477, -0.012535866349935532, -...  \n",
       "\n",
       "[2952 rows x 2 columns]"
      ]
     },
     "execution_count": 15,
     "metadata": {},
     "output_type": "execute_result"
    }
   ],
   "source": [
    "vector_db['embeddings'] = text_chunk_embeddings.tolist()\n",
    "vector_db"
   ]
  },
  {
   "cell_type": "code",
   "execution_count": null,
   "id": "4857d891",
   "metadata": {},
   "outputs": [],
   "source": [
    "# Saving the file\n",
    "vector_db.to_pickle('vector_db.pkl')"
   ]
  },
  {
   "cell_type": "markdown",
   "id": "543fd1a1",
   "metadata": {},
   "source": [
    "### Retrieval using embeddings"
   ]
  },
  {
   "cell_type": "code",
   "execution_count": 18,
   "id": "eecd7e29",
   "metadata": {},
   "outputs": [],
   "source": [
    "query = \"What are Proteins and Carbohydrates?\"\n",
    "\n",
    "query_embedding = embedding_model.encode(query, \n",
    "                                           convert_to_tensor=True, \n",
    "                                           device=\"cuda\")"
   ]
  },
  {
   "cell_type": "code",
   "execution_count": 20,
   "id": "307b021a",
   "metadata": {},
   "outputs": [
    {
     "data": {
      "text/plain": [
       "torch.return_types.topk(\n",
       "values=tensor([0.7134, 0.6359, 0.6320, 0.6303, 0.6234], device='cuda:0'),\n",
       "indices=tensor([  53,   46, 1003,  909,  908], device='cuda:0'))"
      ]
     },
     "execution_count": 20,
     "metadata": {},
     "output_type": "execute_result"
    }
   ],
   "source": [
    "dot_prod = util.dot_score(query_embedding, text_chunk_embeddings)[0]\n",
    "\n",
    "top_results = torch.topk(dot_prod, k=5)\n",
    "top_results"
   ]
  },
  {
   "cell_type": "code",
   "execution_count": 21,
   "id": "9de57a29",
   "metadata": {},
   "outputs": [
    {
     "data": {
      "text/plain": [
       "array(['Figure 1.1 The  Macronutrie nts:  Carbohydrat es, Lipids,  Protein, and  Water  Proteins  Proteins are macromolecules composed of chains of subunits called  amino acids.Amino acids are simple subunits composed of carbon,  oxygen, hydrogen, and nitrogen.Food sources of proteins include  meats, dairy products, seafood, and a variety of different plant- based foods, most notably soy.The word protein comes from a  Greek word meaning “of primary importance,” which is an apt  description of these macronutrients; they are also known  colloquially as the “workhorses” of life.Proteins provide four  kilocalories of energy per gram; however providing energy is not  protein’s most important function.Proteins provide structure to  bones, muscles and skin, and play a role in conducting most of the  chemical reactions that take place in the body.Scientists estimate  that greater than one-hundred thousand different proteins exist  within the human body.The genetic codes in DNA are basically  protein recipes that determine the order in which 20 different  amino acids are bound together to make thousands of specific  proteins. Figure 1.1 The Macronutrients: Carbohydrates, Lipids, Protein, and  Water  Introduction  |  7',\n",
       "       'A unit of  measurement of food energy is the calorie.On nutrition food labels  the amount given for “calories” is actually equivalent to each calorie  multiplied by one thousand.A kilocalorie (one thousand calories,  denoted with a small “c”) is synonymous with the “Calorie” (with a  capital “C”) on nutrition food labels.Water is also a macronutrient in  the sense that you require a large amount of it, but unlike the other  macronutrients, it does not yield calories. Carbohydrates  Carbohydrates are molecules composed of carbon, hydrogen, and  oxygen.The major food sources of carbohydrates are grains, milk,  fruits, and starchy vegetables, like potatoes.Non-starchy vegetables  also contain carbohydrates, but in lesser quantities.Carbohydrates  are broadly classified into two forms based on their chemical  structure: simple carbohydrates, often called simple sugars; and  complex carbohydrates. Simple carbohydrates consist of one or two basic units.Examples  of simple sugars include sucrose, the type of sugar you would have  in a bowl on the breakfast table, and glucose, the type of sugar that  circulates in your blood.',\n",
       "       'Image by  Braden  Collum on  unsplash.co m / CC0  Proteins in a Nutshell  UNIVERSITY OF HAWAI‘I AT MĀNOA FOOD SCIENCE AND HUMAN  NUTRITION PROGRAM AND HUMAN NUTRITION PROGRAM  \\xa0 Proteins are long chains of amino acids folded into precise  structures that determine their functions, which are in the tens of  thousands.They are the primary construction materials of the body  serving as building blocks for bone, skin, hair, muscle, hormones,  and antibodies.Without them we cannot breakdown or build  macromolecules, grow, or heal from a wound.Too little protein  impairs bodily functions and too much can lead to chronic disease. Eat proteins in moderation, at least 10 percent of the calories you  take in and not more than 35 percent.Proteins are in a variety  of foods.More complete sources are in animal-based foods, but  choose those low in saturated fat and cholesterol.Some plant-based  foods are also complete protein sources and don’t add much to your  saturated fat or cholesterol intake.Incomplete protein sources can  easily be combined in the daily diet and provide all of the essential  Proteins in a Nutshell  |  405',\n",
       "       'In fact,  it is estimated that more than one hundred thousand different  proteins exist within the human body.In this chapter you will learn  about the components of protein, the important roles that protein  serves within the body, how the body uses protein, the risks and  consequences associated with too much or too little protein, and  where to find healthy sources of it in your diet. What Is Protein? Proteins, simply put, are macromolecules composed of amino acids. Amino acids are commonly called protein’s building blocks.Proteins  are crucial for the nourishment, renewal, and continuance of life. Proteins contain the elements carbon, hydrogen, and oxygen just  as carbohydrates and lipids do, but proteins are the only  macronutrient that contains nitrogen.In each amino acid the  elements are arranged into a specific conformation around a carbon  center.Each amino acid consists of a central carbon atom  connected to a side chain, a hydrogen, a nitrogen-containing amino  group, and a carboxylic acid group—hence the name “amino acid.” Defining Protein  |  363',\n",
       "       'Defining Protein  UNIVERSITY OF HAWAI‘I AT MĀNOA FOOD SCIENCE AND HUMAN  NUTRITION PROGRAM AND HUMAN NUTRITION PROGRAM  Protein makes up approximately 20 percent of the human body and  is present in every single cell.The word protein is a Greek word,  meaning “of utmost importance.”Proteins are called the workhorses  of life as they provide the body with structure and perform a vast  array of functions.You can stand, walk, run, skate, swim, and more  because of your protein-rich muscles.Protein is necessary for  proper immune system function, digestion, and hair and nail  growth, and is involved in numerous other body functions.In fact,  it is estimated that more than one hundred thousand different  proteins exist within the human body.In this chapter you will learn  about the components of protein, the important roles that protein  serves within the body, how the body uses protein, the risks and  consequences associated with too much or too little protein, and  where to find healthy sources of it in your diet. What Is Protein? Proteins, simply put, are macromolecules composed of amino acids. Amino acids are commonly called protein’s building blocks.'],\n",
       "      dtype=object)"
      ]
     },
     "execution_count": 21,
     "metadata": {},
     "output_type": "execute_result"
    }
   ],
   "source": [
    "vector_db.iloc[top_results.indices.cpu()]['text_chunks'].values"
   ]
  },
  {
   "cell_type": "markdown",
   "id": "128f3d48",
   "metadata": {},
   "source": [
    "### Augmenting the original text with the retrieved chunks"
   ]
  },
  {
   "cell_type": "code",
   "execution_count": 23,
   "id": "844c2e12",
   "metadata": {},
   "outputs": [
    {
     "name": "stdout",
     "output_type": "stream",
     "text": [
      "Given the context :\n",
      "- Figure 1.1 The  Macronutrie nts:  Carbohydrat es, Lipids,  Protein, and  Water  Proteins  Proteins are macromolecules composed of chains of subunits called  amino acids.Amino acids are simple subunits composed of carbon,  oxygen, hydrogen, and nitrogen.Food sources of proteins include  meats, dairy products, seafood, and a variety of different plant- based foods, most notably soy.The word protein comes from a  Greek word meaning “of primary importance,” which is an apt  description of these macronutrients; they are also known  colloquially as the “workhorses” of life.Proteins provide four  kilocalories of energy per gram; however providing energy is not  protein’s most important function.Proteins provide structure to  bones, muscles and skin, and play a role in conducting most of the  chemical reactions that take place in the body.Scientists estimate  that greater than one-hundred thousand different proteins exist  within the human body.The genetic codes in DNA are basically  protein recipes that determine the order in which 20 different  amino acids are bound together to make thousands of specific  proteins. Figure 1.1 The Macronutrients: Carbohydrates, Lipids, Protein, and  Water  Introduction  |  7\n",
      "- A unit of  measurement of food energy is the calorie.On nutrition food labels  the amount given for “calories” is actually equivalent to each calorie  multiplied by one thousand.A kilocalorie (one thousand calories,  denoted with a small “c”) is synonymous with the “Calorie” (with a  capital “C”) on nutrition food labels.Water is also a macronutrient in  the sense that you require a large amount of it, but unlike the other  macronutrients, it does not yield calories. Carbohydrates  Carbohydrates are molecules composed of carbon, hydrogen, and  oxygen.The major food sources of carbohydrates are grains, milk,  fruits, and starchy vegetables, like potatoes.Non-starchy vegetables  also contain carbohydrates, but in lesser quantities.Carbohydrates  are broadly classified into two forms based on their chemical  structure: simple carbohydrates, often called simple sugars; and  complex carbohydrates. Simple carbohydrates consist of one or two basic units.Examples  of simple sugars include sucrose, the type of sugar you would have  in a bowl on the breakfast table, and glucose, the type of sugar that  circulates in your blood.\n",
      "- Image by  Braden  Collum on  unsplash.co m / CC0  Proteins in a Nutshell  UNIVERSITY OF HAWAI‘I AT MĀNOA FOOD SCIENCE AND HUMAN  NUTRITION PROGRAM AND HUMAN NUTRITION PROGRAM    Proteins are long chains of amino acids folded into precise  structures that determine their functions, which are in the tens of  thousands.They are the primary construction materials of the body  serving as building blocks for bone, skin, hair, muscle, hormones,  and antibodies.Without them we cannot breakdown or build  macromolecules, grow, or heal from a wound.Too little protein  impairs bodily functions and too much can lead to chronic disease. Eat proteins in moderation, at least 10 percent of the calories you  take in and not more than 35 percent.Proteins are in a variety  of foods.More complete sources are in animal-based foods, but  choose those low in saturated fat and cholesterol.Some plant-based  foods are also complete protein sources and don’t add much to your  saturated fat or cholesterol intake.Incomplete protein sources can  easily be combined in the daily diet and provide all of the essential  Proteins in a Nutshell  |  405\n",
      "- In fact,  it is estimated that more than one hundred thousand different  proteins exist within the human body.In this chapter you will learn  about the components of protein, the important roles that protein  serves within the body, how the body uses protein, the risks and  consequences associated with too much or too little protein, and  where to find healthy sources of it in your diet. What Is Protein? Proteins, simply put, are macromolecules composed of amino acids. Amino acids are commonly called protein’s building blocks.Proteins  are crucial for the nourishment, renewal, and continuance of life. Proteins contain the elements carbon, hydrogen, and oxygen just  as carbohydrates and lipids do, but proteins are the only  macronutrient that contains nitrogen.In each amino acid the  elements are arranged into a specific conformation around a carbon  center.Each amino acid consists of a central carbon atom  connected to a side chain, a hydrogen, a nitrogen-containing amino  group, and a carboxylic acid group—hence the name “amino acid.” Defining Protein  |  363\n",
      "- Defining Protein  UNIVERSITY OF HAWAI‘I AT MĀNOA FOOD SCIENCE AND HUMAN  NUTRITION PROGRAM AND HUMAN NUTRITION PROGRAM  Protein makes up approximately 20 percent of the human body and  is present in every single cell.The word protein is a Greek word,  meaning “of utmost importance.”Proteins are called the workhorses  of life as they provide the body with structure and perform a vast  array of functions.You can stand, walk, run, skate, swim, and more  because of your protein-rich muscles.Protein is necessary for  proper immune system function, digestion, and hair and nail  growth, and is involved in numerous other body functions.In fact,  it is estimated that more than one hundred thousand different  proteins exist within the human body.In this chapter you will learn  about the components of protein, the important roles that protein  serves within the body, how the body uses protein, the risks and  consequences associated with too much or too little protein, and  where to find healthy sources of it in your diet. What Is Protein? Proteins, simply put, are macromolecules composed of amino acids. Amino acids are commonly called protein’s building blocks.\n",
      "\n",
      "Answer to the point and you take reference provided context. \n",
      "\n",
      "Answer the below query:\n",
      "What are Proteins and Carbohydrates? \n",
      "\n",
      "Answer:\n"
     ]
    }
   ],
   "source": [
    "context = \"- \" +\"\\n- \".join(vector_db.iloc[top_results.indices.tolist()]['text_chunks'].values)\n",
    "\n",
    "query_to_ask = f\"Given the context :\\n{context}\\n\\nAnswer to the point and you take reference provided context. \\n\\nAnswer the below query:\\n{query} \\n\\nAnswer:\"\n",
    "\n",
    "print(query_to_ask)"
   ]
  },
  {
   "cell_type": "markdown",
   "id": "b951bfe0",
   "metadata": {},
   "source": [
    "### Generating the answer to our question."
   ]
  },
  {
   "cell_type": "markdown",
   "id": "af2fe7ae",
   "metadata": {},
   "source": [
    "### Using model MS Phi2"
   ]
  },
  {
   "cell_type": "code",
   "execution_count": 24,
   "id": "eb414bd0",
   "metadata": {},
   "outputs": [
    {
     "data": {
      "application/vnd.jupyter.widget-view+json": {
       "model_id": "bea3fd9c2ae14065aa31e401733b5299",
       "version_major": 2,
       "version_minor": 0
      },
      "text/plain": [
       "tokenizer_config.json:   0%|          | 0.00/7.34k [00:00<?, ?B/s]"
      ]
     },
     "metadata": {},
     "output_type": "display_data"
    },
    {
     "data": {
      "application/vnd.jupyter.widget-view+json": {
       "model_id": "b28ee6d6721b402ea59139f1128af067",
       "version_major": 2,
       "version_minor": 0
      },
      "text/plain": [
       "vocab.json:   0%|          | 0.00/798k [00:00<?, ?B/s]"
      ]
     },
     "metadata": {},
     "output_type": "display_data"
    },
    {
     "data": {
      "application/vnd.jupyter.widget-view+json": {
       "model_id": "7fb9fa5325dc4e6eafe4d3e04ffabd3f",
       "version_major": 2,
       "version_minor": 0
      },
      "text/plain": [
       "merges.txt:   0%|          | 0.00/456k [00:00<?, ?B/s]"
      ]
     },
     "metadata": {},
     "output_type": "display_data"
    },
    {
     "data": {
      "application/vnd.jupyter.widget-view+json": {
       "model_id": "d81ee6ea7e2045f491d62a459b52b88f",
       "version_major": 2,
       "version_minor": 0
      },
      "text/plain": [
       "tokenizer.json:   0%|          | 0.00/2.11M [00:00<?, ?B/s]"
      ]
     },
     "metadata": {},
     "output_type": "display_data"
    },
    {
     "data": {
      "application/vnd.jupyter.widget-view+json": {
       "model_id": "b030a251403f495b8f32864ba034ba85",
       "version_major": 2,
       "version_minor": 0
      },
      "text/plain": [
       "added_tokens.json:   0%|          | 0.00/1.08k [00:00<?, ?B/s]"
      ]
     },
     "metadata": {},
     "output_type": "display_data"
    },
    {
     "data": {
      "application/vnd.jupyter.widget-view+json": {
       "model_id": "f698f9cbac444358b6d33112971e77b6",
       "version_major": 2,
       "version_minor": 0
      },
      "text/plain": [
       "special_tokens_map.json:   0%|          | 0.00/99.0 [00:00<?, ?B/s]"
      ]
     },
     "metadata": {},
     "output_type": "display_data"
    },
    {
     "data": {
      "application/vnd.jupyter.widget-view+json": {
       "model_id": "5dc06d86900244b3b5a9c05556626173",
       "version_major": 2,
       "version_minor": 0
      },
      "text/plain": [
       "config.json:   0%|          | 0.00/735 [00:00<?, ?B/s]"
      ]
     },
     "metadata": {},
     "output_type": "display_data"
    },
    {
     "data": {
      "application/vnd.jupyter.widget-view+json": {
       "model_id": "07515d30bd3b4dc0a187464631a091ba",
       "version_major": 2,
       "version_minor": 0
      },
      "text/plain": [
       "model.safetensors.index.json:   0%|          | 0.00/35.7k [00:00<?, ?B/s]"
      ]
     },
     "metadata": {},
     "output_type": "display_data"
    },
    {
     "data": {
      "application/vnd.jupyter.widget-view+json": {
       "model_id": "66096c89cb3349aba63a4c2dc9f3e4a5",
       "version_major": 2,
       "version_minor": 0
      },
      "text/plain": [
       "Fetching 2 files:   0%|          | 0/2 [00:00<?, ?it/s]"
      ]
     },
     "metadata": {},
     "output_type": "display_data"
    },
    {
     "data": {
      "application/vnd.jupyter.widget-view+json": {
       "model_id": "bc95487a6f2744a5b6db9226617c2577",
       "version_major": 2,
       "version_minor": 0
      },
      "text/plain": [
       "model-00002-of-00002.safetensors:   0%|          | 0.00/564M [00:00<?, ?B/s]"
      ]
     },
     "metadata": {},
     "output_type": "display_data"
    },
    {
     "data": {
      "application/vnd.jupyter.widget-view+json": {
       "model_id": "a2ebc4bacb5d4e8187ccc1bf82619987",
       "version_major": 2,
       "version_minor": 0
      },
      "text/plain": [
       "model-00001-of-00002.safetensors:   0%|          | 0.00/5.00G [00:00<?, ?B/s]"
      ]
     },
     "metadata": {},
     "output_type": "display_data"
    },
    {
     "data": {
      "application/vnd.jupyter.widget-view+json": {
       "model_id": "0d33c0ae96d8476f93423fd104d66eef",
       "version_major": 2,
       "version_minor": 0
      },
      "text/plain": [
       "Loading checkpoint shards:   0%|          | 0/2 [00:00<?, ?it/s]"
      ]
     },
     "metadata": {},
     "output_type": "display_data"
    },
    {
     "data": {
      "application/vnd.jupyter.widget-view+json": {
       "model_id": "71d03ca357d84de78f63869076fabb1d",
       "version_major": 2,
       "version_minor": 0
      },
      "text/plain": [
       "generation_config.json:   0%|          | 0.00/124 [00:00<?, ?B/s]"
      ]
     },
     "metadata": {},
     "output_type": "display_data"
    }
   ],
   "source": [
    "from transformers import AutoTokenizer, AutoModelForCausalLM\n",
    "\n",
    "# Load tokenizer and model\n",
    "model_id = \"microsoft/phi-2\"\n",
    "tokenizer = AutoTokenizer.from_pretrained(model_id)\n",
    "model = AutoModelForCausalLM.from_pretrained(model_id, torch_dtype=torch.float16).to(\"cuda\")"
   ]
  },
  {
   "cell_type": "code",
   "execution_count": 25,
   "id": "5c8e4298",
   "metadata": {},
   "outputs": [
    {
     "name": "stdout",
     "output_type": "stream",
     "text": [
      "('Given the context :\\n'\n",
      " '- Figure 1.1 The  Macronutrie nts:  Carbohydrat es, Lipids,  Protein, and  Water  Proteins  Proteins are macromolecules composed of chains of '\n",
      " 'subunits called  amino acids.Amino acids are simple subunits composed of carbon,  oxygen, hydrogen, and nitrogen.Food sources of proteins include  '\n",
      " 'meats, dairy products, seafood, and a variety of different plant- based foods, most notably soy.The word protein comes from a  Greek word meaning '\n",
      " '“of primary importance,” which is an apt  description of these macronutrients; they are also known  colloquially as the “workhorses” of '\n",
      " 'life.Proteins provide four  kilocalories of energy per gram; however providing energy is not  protein’s most important function.Proteins provide '\n",
      " 'structure to  bones, muscles and skin, and play a role in conducting most of the  chemical reactions that take place in the body.Scientists '\n",
      " 'estimate  that greater than one-hundred thousand different proteins exist  within the human body.The genetic codes in DNA are basically  protein '\n",
      " 'recipes that determine the order in which 20 different  amino acids are bound together to make thousands of specific  proteins. Figure 1.1 The '\n",
      " 'Macronutrients: Carbohydrates, Lipids, Protein, and  Water  Introduction  |  7\\n'\n",
      " '- A unit of  measurement of food energy is the calorie.On nutrition food labels  the amount given for “calories” is actually equivalent to each '\n",
      " 'calorie  multiplied by one thousand.A kilocalorie (one thousand calories,  denoted with a small “c”) is synonymous with the “Calorie” (with a  '\n",
      " 'capital “C”) on nutrition food labels.Water is also a macronutrient in  the sense that you require a large amount of it, but unlike the other  '\n",
      " 'macronutrients, it does not yield calories. Carbohydrates  Carbohydrates are molecules composed of carbon, hydrogen, and  oxygen.The major food '\n",
      " 'sources of carbohydrates are grains, milk,  fruits, and starchy vegetables, like potatoes.Non-starchy vegetables  also contain carbohydrates, but '\n",
      " 'in lesser quantities.Carbohydrates  are broadly classified into two forms based on their chemical  structure: simple carbohydrates, often called '\n",
      " 'simple sugars; and  complex carbohydrates. Simple carbohydrates consist of one or two basic units.Examples  of simple sugars include sucrose, the '\n",
      " 'type of sugar you would have  in a bowl on the breakfast table, and glucose, the type of sugar that  circulates in your blood.\\n'\n",
      " '- Image by  Braden  Collum on  unsplash.co m / CC0  Proteins in a Nutshell  UNIVERSITY OF HAWAI‘I AT MĀNOA FOOD SCIENCE AND HUMAN  NUTRITION '\n",
      " 'PROGRAM AND HUMAN NUTRITION PROGRAM  \\xa0 Proteins are long chains of amino acids folded into precise  structures that determine their functions, '\n",
      " 'which are in the tens of  thousands.They are the primary construction materials of the body  serving as building blocks for bone, skin, hair, '\n",
      " 'muscle, hormones,  and antibodies.Without them we cannot breakdown or build  macromolecules, grow, or heal from a wound.Too little protein  '\n",
      " 'impairs bodily functions and too much can lead to chronic disease. Eat proteins in moderation, at least 10 percent of the calories you  take in '\n",
      " 'and not more than 35 percent.Proteins are in a variety  of foods.More complete sources are in animal-based foods, but  choose those low in '\n",
      " 'saturated fat and cholesterol.Some plant-based  foods are also complete protein sources and don’t add much to your  saturated fat or cholesterol '\n",
      " 'intake.Incomplete protein sources can  easily be combined in the daily diet and provide all of the essential  Proteins in a Nutshell  |  405\\n'\n",
      " '- In fact,  it is estimated that more than one hundred thousand different  proteins exist within the human body.In this chapter you will learn  '\n",
      " 'about the components of protein, the important roles that protein  serves within the body, how the body uses protein, the risks and  consequences '\n",
      " 'associated with too much or too little protein, and  where to find healthy sources of it in your diet. What Is Protein? Proteins, simply put, are '\n",
      " 'macromolecules composed of amino acids. Amino acids are commonly called protein’s building blocks.Proteins  are crucial for the nourishment, '\n",
      " 'renewal, and continuance of life. Proteins contain the elements carbon, hydrogen, and oxygen just  as carbohydrates and lipids do, but proteins '\n",
      " 'are the only  macronutrient that contains nitrogen.In each amino acid the  elements are arranged into a specific conformation around a carbon  '\n",
      " 'center.Each amino acid consists of a central carbon atom  connected to a side chain, a hydrogen, a nitrogen-containing amino  group, and a '\n",
      " 'carboxylic acid group—hence the name “amino acid.” Defining Protein  |  363\\n'\n",
      " '- Defining Protein  UNIVERSITY OF HAWAI‘I AT MĀNOA FOOD SCIENCE AND HUMAN  NUTRITION PROGRAM AND HUMAN NUTRITION PROGRAM  Protein makes up '\n",
      " 'approximately 20 percent of the human body and  is present in every single cell.The word protein is a Greek word,  meaning “of utmost '\n",
      " 'importance.”Proteins are called the workhorses  of life as they provide the body with structure and perform a vast  array of functions.You can '\n",
      " 'stand, walk, run, skate, swim, and more  because of your protein-rich muscles.Protein is necessary for  proper immune system function, digestion, '\n",
      " 'and hair and nail  growth, and is involved in numerous other body functions.In fact,  it is estimated that more than one hundred thousand '\n",
      " 'different  proteins exist within the human body.In this chapter you will learn  about the components of protein, the important roles that protein  '\n",
      " 'serves within the body, how the body uses protein, the risks and  consequences associated with too much or too little protein, and  where to find '\n",
      " 'healthy sources of it in your diet. What Is Protein? Proteins, simply put, are macromolecules composed of amino acids. Amino acids are commonly '\n",
      " 'called protein’s building blocks.\\n'\n",
      " '\\n'\n",
      " 'Answer to the point and you take reference provided context. \\n'\n",
      " '\\n'\n",
      " 'Answer the below query:\\n'\n",
      " 'What are Proteins and Carbohydrates? \\n'\n",
      " '\\n'\n",
      " 'Answer:\\n'\n",
      " 'Proteins are macromolecules composed of chains of subunits called amino acids. Amino acids are simple subunits composed of carbon, oxygen, '\n",
      " 'hydrogen, and nitrogen. Food sources of proteins include meats, dairy products, seafood, and a variety of different plant-based foods, most '\n",
      " 'notably soy. The word protein comes from a Greek word meaning “of primary importance,” which is an apt description of these macronutrients; they '\n",
      " 'are also known colloquially as the “workhorses” of life. Proteins provide structure to bones, muscles and skin, and play a role in')\n"
     ]
    }
   ],
   "source": [
    "# Tokenize\n",
    "inputs = tokenizer(query_to_ask, return_tensors=\"pt\").to(\"cuda\")\n",
    "\n",
    "# Generate response\n",
    "with torch.no_grad():\n",
    "    outputs = model.generate(\n",
    "        **inputs,\n",
    "        max_new_tokens=128,\n",
    "        temperature=0.7,\n",
    "        top_p=0.9,\n",
    "        do_sample=True,\n",
    "        pad_token_id=tokenizer.eos_token_id\n",
    "    )\n",
    "    \n",
    "# Decode and print\n",
    "response = tokenizer.decode(outputs[0], skip_special_tokens=True)\n",
    "pprint.pprint(response,width=150)"
   ]
  },
  {
   "cell_type": "code",
   "execution_count": 28,
   "id": "65fcca3e",
   "metadata": {},
   "outputs": [],
   "source": [
    "def ask(query,model,tokenizer):\n",
    "    query_embedding = embedding_model.encode(query, \n",
    "                                               convert_to_tensor=True, \n",
    "                                               device=\"cuda\")\n",
    "\n",
    "    dot_scores = util.dot_score(query_embedding, text_chunk_embeddings)[0]\n",
    "    top_results = torch.topk(dot_scores, k=5)\n",
    "\n",
    "    context = \"- \" + \"\\n- \".join(vector_db.iloc[top_results.indices.tolist()]['text_chunks'].values)\n",
    "\n",
    "    query_to_ask = f\"Given the context :\\n{context}\\n\\nAnswer to the point and you take reference provided context. \\n\\nAnswer the below query:\\n{query} \\n\\nAnswer:\"\n",
    "\n",
    "    inputs = tokenizer(query_to_ask, return_tensors=\"pt\").to(\"cuda\")\n",
    "\n",
    "    with torch.no_grad():\n",
    "        outputs = model.generate(\n",
    "            **inputs,\n",
    "            max_new_tokens=128,\n",
    "            temperature=0.7,\n",
    "            top_p=0.9,\n",
    "            do_sample=True,\n",
    "            pad_token_id=tokenizer.eos_token_id\n",
    "        )\n",
    "        \n",
    "    response = tokenizer.decode(outputs[0], skip_special_tokens=True)\n",
    "    \n",
    "    return response"
   ]
  },
  {
   "cell_type": "code",
   "execution_count": 31,
   "id": "710017de",
   "metadata": {},
   "outputs": [
    {
     "name": "stdout",
     "output_type": "stream",
     "text": [
      "('Given the context :\\n'\n",
      " '- The Functions of  Carbohydrates in the Body  UNIVERSITY OF HAWAI‘I AT MĀNOA FOOD SCIENCE AND HUMAN  NUTRITION PROGRAM AND HUMAN NUTRITION '\n",
      " 'PROGRAM  There are five primary functions of carbohydrates in the human  body.They are energy production, energy storage, building  '\n",
      " 'macromolecules, sparing protein, and assisting in lipid metabolism. Energy Production  The primary role of carbohydrates is to supply energy to '\n",
      " 'all cells  in the body.Many cells prefer glucose as a source of energy versus  other compounds like fatty acids.Some cells, such as red blood  '\n",
      " 'cells, are only able to produce cellular energy from glucose.The  brain is also highly sensitive to low blood-glucose levels because  it uses only '\n",
      " 'glucose to produce energy and function (unless under  extreme starvation conditions).About 70 percent of the glucose  entering the body from '\n",
      " 'digestion is redistributed (by the liver) back  into the blood for use by other tissues.Cells that require energy  remove the glucose from the '\n",
      " 'blood with a transport protein in their  membranes.The energy from glucose comes from the chemical  bonds between the carbon atoms.Sunlight energy '\n",
      " 'was required to  produce these high-energy bonds in the process of photosynthesis.\\n'\n",
      " '-  258  |  The Functions of Carbohydrates in the Body\\n'\n",
      " '- Without energy none of the  other life processes are performed.Although our bodies can  synthesize glucose it comes at the cost of protein '\n",
      " 'destruction.As  with all nutrients though, carbohydrates are to be consumed in  moderation as having too much or too little in the diet may lead '\n",
      " 'to  health problems. Learning Activities  Technology Note: The second edition of the Human  Nutrition Open Educational Resource (OER) textbook  '\n",
      " 'features interactive learning activities.\\xa0 These activities are  available in the web-based textbook and not available in the  downloadable '\n",
      " 'versions (EPUB, Digital PDF, Print_PDF, or  Open Document). 258  |  The Functions of Carbohydrates in the Body\\n'\n",
      " '- down digestible complex carbohydrates to simple sugars, mostly  glucose.Glucose is then transported to all our cells where it is  stored, used '\n",
      " 'to make energy, or used to build macromolecules.Fiber  is also a complex carbohydrate, but it cannot be broken down by  digestive enzymes in the '\n",
      " 'human intestine.As a result, it passes  through the digestive tract undigested unless the bacteria that  inhabit the colon or large intestine '\n",
      " 'break it down. One gram of digestible carbohydrates yields four kilocalories of  energy for the cells in the body to perform work.In addition to  '\n",
      " 'providing energy and serving as building blocks for bigger  macromolecules, carbohydrates are essential for proper functioning  of the nervous '\n",
      " 'system, heart, and kidneys.As mentioned, glucose  can be stored in the body for future use.In humans, the storage  molecule of carbohydrates is '\n",
      " 'called glycogen, and in plants, it is  known as starch.Glycogen and starch are complex carbohydrates. Lipids  Lipids are also a family of '\n",
      " 'molecules composed of carbon, hydrogen,  and oxygen, but unlike carbohydrates, they are insoluble in water.\\n'\n",
      " '- Learning activities may be used across various mobile  devices, however, for the best user experience it is strongly  recommended that users '\n",
      " 'complete these activities using a  desktop or laptop computer and in Google Chrome. \\xa0 An interactive or media element has been  excluded from '\n",
      " 'this version of the text.You can  view it online here:  http://pressbooks.oer.hawaii.edu/ humannutrition2/?p=187  \\xa0 An interactive or media '\n",
      " 'element has been  excluded from this version of the text.You can  view it online here:  http://pressbooks.oer.hawaii.edu/ humannutrition2/?p=187  '\n",
      " 'The Functions of Carbohydrates in the Body  |  259\\n'\n",
      " '\\n'\n",
      " 'Answer to the point and you take reference provided context. \\n'\n",
      " '\\n'\n",
      " 'Answer the below query:\\n'\n",
      " 'What do Carbohydrates do in our body? \\n'\n",
      " '\\n'\n",
      " 'Answer:\\n'\n",
      " '\\n'\n",
      " 'The primary role of carbohydrates is to supply energy to all cells in the body.\\n'\n",
      " 'Many cells prefer glucose as a source of energy versus other compounds like fatty acids.Some cells, such as red blood cells, are only able to '\n",
      " 'produce cellular energy from glucose.\\n'\n",
      " 'The brain is also highly sensitive to low blood-glucose levels because it uses only glucose to produce energy and function (unless under extreme '\n",
      " 'starvation conditions).\\n'\n",
      " 'About 70 percent of the glucose entering the body from digestion is redistributed (by the liver) back into the blood for use by other tissues.\\n'\n",
      " 'Cells that require energy remove the glucose from the blood with')\n"
     ]
    }
   ],
   "source": [
    "pprint.pprint(ask(\"What do Carbohydrates do in our body?\", model, tokenizer),width=150)"
   ]
  },
  {
   "cell_type": "code",
   "execution_count": 35,
   "id": "5b7cd42e",
   "metadata": {},
   "outputs": [
    {
     "name": "stdout",
     "output_type": "stream",
     "text": [
      "('Given the context :\\n'\n",
      " '- molecule\\xa0water (H2O).Molecules bond together to make bigger  macromolecules.The carbon atom is often referred to as the  backbone of life '\n",
      " 'because it can readily bond with four other  elements to form long chains and more complex macromolecules. Four macromolecules—carbohydrates, '\n",
      " 'lipids, proteins, and nucleic  acids—make up all of the structural and functional units of cells. Although we defined the cell as the “most basic” '\n",
      " 'unit of life,  it is structurally and functionally complex\\xa0(Figure 2.2 “The Cell  Structure”).\\xa0A cell can be thought of as a mini-organism '\n",
      " 'consisting  of tiny organs called organelles.The organelles are structural and  functional units constructed from several macromolecules bonded  '\n",
      " 'together.A typical animal cell contains the following organelles:  the nucleus (which houses the genetic material DNA), mitochondria  (which '\n",
      " 'generate energy), ribosomes (which produce protein), the  endoplasmic reticulum (which is a packaging and transport facility),  and the golgi '\n",
      " 'apparatus (which distributes macromolecules).In  addition, animal cells contain little digestive pouches, called  lysosomes and peroxisomes, which '\n",
      " 'break down macromolecules  and destroy foreign invaders.All of the organelles are anchored  in the cell’s cytoplasm via a cytoskeleton.\\n'\n",
      " '- New cells are made from preexisting cells,  which divide in two.Who you are has been determined because  of two cells that came together inside '\n",
      " 'your mother’s womb.The  two cells containing all of your genetic information (DNA) united to  begin making new life.Cells divided and '\n",
      " 'differentiated into other  cells with specific roles that led to the formation of the body’s  numerous body organs, systems, blood, blood vessels, '\n",
      " 'bone, tissue,  and skin.As an adult, you are made up of trillions of cells.Each of  your individual cells is a compact and efficient form of '\n",
      " 'life—self- sufficient, yet interdependent upon the other cells within your body  to supply its needs. Independent single-celled organisms must '\n",
      " 'conduct all the basic  processes of life.\\xa0The single-celled organism must take in nutrients  (energy capture), excrete wastes, detect and '\n",
      " 'respond to its  environment, move, breathe, grow, and reproduce.Even a one- celled organism must be organized to perform these essential  '\n",
      " 'processes.All cells are organized from the atomic level to all its  larger forms.\\n'\n",
      " '- \\xa0A cell can be thought of as a mini-organism consisting  of tiny organs called organelles.The organelles are structural and  functional units '\n",
      " 'constructed from several macromolecules bonded  together.A typical animal cell contains the following organelles:  the nucleus (which houses the '\n",
      " 'genetic material DNA), mitochondria  (which generate energy), ribosomes (which produce protein), the  endoplasmic reticulum (which is a packaging '\n",
      " 'and transport facility),  and the golgi apparatus (which distributes macromolecules).In  addition, animal cells contain little digestive pouches, '\n",
      " 'called  lysosomes and peroxisomes, which break down macromolecules  and destroy foreign invaders.All of the organelles are anchored  in the cell’s '\n",
      " 'cytoplasm via a cytoskeleton.The cell’s organelles are  isolated from the surrounding environment by a plasma membrane. Figure 2.2 The Cell '\n",
      " 'Structure  Basic Biology, Anatomy, and Physiology  |  63\\n'\n",
      " '- Each of  your individual cells is a compact and efficient form of life—self- sufficient, yet interdependent upon the other cells within your '\n",
      " 'body  to supply its needs. Independent single-celled organisms must conduct all the basic  processes of life.\\xa0The single-celled organism must '\n",
      " 'take in nutrients  (energy capture), excrete wastes, detect and respond to its  environment, move, breathe, grow, and reproduce.Even a one- celled '\n",
      " 'organism must be organized to perform these essential  processes.All cells are organized from the atomic level to all its  larger forms.Oxygen and '\n",
      " 'hydrogen atoms combine to make the  62  |  Basic Biology, Anatomy, and Physiology\\n'\n",
      " '- Figure 2.2  The Cell  Structure  The cell is  structurally  and  functionally  complex. Tissues, Organs, Organ Systems, and Organisms  '\n",
      " 'Unicellular (single-celled) organisms can function independently,  but the cells of multicellular organisms are dependent upon each  other and are '\n",
      " 'organized into five different levels in order to  coordinate their specific functions and carry out all of life’s  biological processes (see '\n",
      " 'Figure 2.3 “Organization of Life”. • Cells are the basic structural and functional unit of all life. Examples include red blood cells and nerve '\n",
      " 'cells.There are  hundreds of types of cells.All cells in a person contain the  same genetic information in DNA.However, each cell only  expresses '\n",
      " 'the genetic codes that relate to the cell’s specific  64  |  Basic Biology, Anatomy, and Physiology\\n'\n",
      " '\\n'\n",
      " 'Answer to the point and you take reference provided context. \\n'\n",
      " '\\n'\n",
      " 'Answer the below query:\\n'\n",
      " 'What is the powerhouse of cell? \\n'\n",
      " '\\n'\n",
      " 'Answer:\\n'\n",
      " 'The powerhouse of cell is the mitochondria.\\n')\n"
     ]
    }
   ],
   "source": [
    "pprint.pprint(ask(\"What is the powerhouse of cell?\", model, tokenizer),width=150)"
   ]
  }
 ],
 "metadata": {
  "kernelspec": {
   "display_name": "ayush",
   "language": "python",
   "name": "python3"
  },
  "language_info": {
   "codemirror_mode": {
    "name": "ipython",
    "version": 3
   },
   "file_extension": ".py",
   "mimetype": "text/x-python",
   "name": "python",
   "nbconvert_exporter": "python",
   "pygments_lexer": "ipython3",
   "version": "3.10.16"
  }
 },
 "nbformat": 4,
 "nbformat_minor": 5
}
